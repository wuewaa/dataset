{
 "cells": [
  {
   "cell_type": "code",
   "execution_count": 1,
   "metadata": {},
   "outputs": [],
   "source": [
    "import xarray as xr\n",
    "import numpy as np\n",
    "import matplotlib.pyplot as plt\n",
    "import cartopy.crs as ccrs\n",
    "import cartopy.feature as cfeat\n",
    "from matplotlib import gridspec\n",
    "from cartopy.mpl.ticker import LongitudeFormatter, LatitudeFormatter\n",
    "from matplotlib.ticker import MultipleLocator\n",
    "import matplotlib as mpl\n",
    "from scipy.stats.mstats import ttest_ind\n",
    "from cartopy.util import add_cyclic_point"
   ]
  },
  {
   "cell_type": "code",
   "execution_count": 8,
   "metadata": {},
   "outputs": [],
   "source": [
    "data_FC5_dyn = xr.open_dataset('/data/home/huawj/hwchen/fig3-diff-fix-tsa-dtr/data/FC5_dyn.nc')\n",
    "times = data_FC5_dyn.time\n",
    "lons = data_FC5_dyn.lon\n",
    "lats = data_FC5_dyn.lat\n",
    "tsa = data_FC5_dyn['tsa'].values\n",
    "tsmx = data_FC5_dyn['tsmx'].values\n",
    "tsa_dataarray = xr.DataArray(\n",
    "    tsa,\n",
    "    coords=[times, lats, lons],\n",
    "    dims=['time', 'lat', 'lon'],\n",
    ")\n",
    "tsmx_dataarray = xr.DataArray(\n",
    "    tsmx,\n",
    "    coords=[times, lats, lons],\n",
    "    dims=['time', 'lat', 'lon'],\n",
    ")\n",
    "dataset = xr.Dataset({\n",
    "    'tsa': tsa_dataarray,\n",
    "    'tsmx': tsmx_dataarray\n",
    "})\n",
    "dataset.to_netcdf('/data/home/huawj/hwchen/fig3-diff-fix-tsa-dtr/data/chw.nc')"
   ]
  }
 ],
 "metadata": {
  "kernelspec": {
   "display_name": "chw_3.8",
   "language": "python",
   "name": "python3"
  },
  "language_info": {
   "codemirror_mode": {
    "name": "ipython",
    "version": 3
   },
   "file_extension": ".py",
   "mimetype": "text/x-python",
   "name": "python",
   "nbconvert_exporter": "python",
   "pygments_lexer": "ipython3",
   "version": "3.8.18"
  }
 },
 "nbformat": 4,
 "nbformat_minor": 2
}
